{
  "nbformat": 4,
  "nbformat_minor": 0,
  "metadata": {
    "colab": {
      "provenance": [],
      "mount_file_id": "1Oh6R9ZsAOXZoKMIJyp8NIDpKcNO5yfUp",
      "authorship_tag": "ABX9TyM+H/VTkJDlO5aG/jmhA7SL",
      "include_colab_link": true
    },
    "kernelspec": {
      "name": "python3",
      "display_name": "Python 3"
    },
    "language_info": {
      "name": "python"
    }
  },
  "cells": [
    {
      "cell_type": "markdown",
      "metadata": {
        "id": "view-in-github",
        "colab_type": "text"
      },
      "source": [
        "<a href=\"https://colab.research.google.com/github/ksaikiran950/Chat-with-PDFs-using-RAG-Pipeline/blob/main/Chat_with_PDF_Using_RAG_Pipeline.ipynb\" target=\"_parent\"><img src=\"https://colab.research.google.com/assets/colab-badge.svg\" alt=\"Open In Colab\"/></a>"
      ]
    },
    {
      "cell_type": "code",
      "execution_count": 7,
      "metadata": {
        "colab": {
          "base_uri": "https://localhost:8080/"
        },
        "id": "irMVjCq_QKR0",
        "outputId": "8a4bc28e-62ff-4016-c12f-71d8f0b20d5c"
      },
      "outputs": [
        {
          "output_type": "stream",
          "name": "stdout",
          "text": [
            "Requirement already satisfied: PyMuPDF in /usr/local/lib/python3.10/dist-packages (1.25.1)\n",
            "PyMuPDF is successfully installed!\n"
          ]
        }
      ],
      "source": [
        "!pip install PyMuPDF\n",
        "import fitz\n",
        "print(\"PyMuPDF is successfully installed!\")\n",
        "import os\n",
        "os.environ[\"HF_HUB_DISABLE_SYMLINKS_WARNING\"] = \"1\""
      ]
    },
    {
      "cell_type": "code",
      "source": [
        "!pip install faiss-cpu"
      ],
      "metadata": {
        "colab": {
          "base_uri": "https://localhost:8080/"
        },
        "id": "XCL44oOdQhlg",
        "outputId": "61ec5226-dcac-479f-e8a9-b38e2fcbca68"
      },
      "execution_count": 8,
      "outputs": [
        {
          "output_type": "stream",
          "name": "stdout",
          "text": [
            "Requirement already satisfied: faiss-cpu in /usr/local/lib/python3.10/dist-packages (1.9.0.post1)\n",
            "Requirement already satisfied: numpy<3.0,>=1.25.0 in /usr/local/lib/python3.10/dist-packages (from faiss-cpu) (1.26.4)\n",
            "Requirement already satisfied: packaging in /usr/local/lib/python3.10/dist-packages (from faiss-cpu) (24.2)\n"
          ]
        }
      ]
    },
    {
      "cell_type": "code",
      "source": [
        "import fitz  # PyMuPDF\n",
        "\n",
        "def extract_text_from_pdf(Sithafal_Task1):\n",
        "    doc = fitz.open(Sithafal_Task1)\n",
        "    text = \"\"\n",
        "    for page in doc:\n",
        "        text += page.get_text()\n",
        "    return text"
      ],
      "metadata": {
        "id": "6j3vMJRTQL9S"
      },
      "execution_count": 9,
      "outputs": []
    },
    {
      "cell_type": "code",
      "source": [
        "from sentence_transformers import SentenceTransformer\n",
        "\n",
        "model = SentenceTransformer('all-MiniLM-L6-v2')\n",
        "def embed_chunks(chunks):\n",
        "    embeddings = model.encode(chunks)\n",
        "    return embeddings"
      ],
      "metadata": {
        "colab": {
          "base_uri": "https://localhost:8080/"
        },
        "id": "Tz2dWsH0QeCi",
        "outputId": "566ac00e-3b35-4d47-f5f7-2ca63866cf11"
      },
      "execution_count": 10,
      "outputs": [
        {
          "output_type": "stream",
          "name": "stderr",
          "text": [
            "/usr/local/lib/python3.10/dist-packages/huggingface_hub/utils/_auth.py:94: UserWarning: \n",
            "The secret `HF_TOKEN` does not exist in your Colab secrets.\n",
            "To authenticate with the Hugging Face Hub, create a token in your settings tab (https://huggingface.co/settings/tokens), set it as secret in your Google Colab and restart your session.\n",
            "You will be able to reuse this secret in all of your notebooks.\n",
            "Please note that authentication is recommended but still optional to access public models or datasets.\n",
            "  warnings.warn(\n"
          ]
        }
      ]
    },
    {
      "cell_type": "code",
      "source": [
        "import faiss\n",
        "print(\"FAISS successfully imported!\")"
      ],
      "metadata": {
        "colab": {
          "base_uri": "https://localhost:8080/"
        },
        "id": "6fW40QM9QwMZ",
        "outputId": "5e5c6ade-9a94-4698-fbd1-61dce5187467"
      },
      "execution_count": 11,
      "outputs": [
        {
          "output_type": "stream",
          "name": "stdout",
          "text": [
            "FAISS successfully imported!\n"
          ]
        }
      ]
    },
    {
      "cell_type": "code",
      "source": [
        "import faiss\n",
        "import numpy as np\n",
        "\n",
        "def store_embeddings(embeddings):\n",
        "    dim = embeddings.shape[1]\n",
        "    index = faiss.IndexFlatL2(dim)\n",
        "    index.add(embeddings)\n",
        "    return index"
      ],
      "metadata": {
        "id": "EnT7N2BTQxQA"
      },
      "execution_count": 12,
      "outputs": []
    },
    {
      "cell_type": "code",
      "source": [
        "def retrieve_chunks(query, index, chunks, k=5):\n",
        "    query_embedding = model.encode([query])\n",
        "    distances, indices = index.search(query_embedding, k)\n",
        "    results = [chunks[i] for i in indices[0]]\n",
        "    return results"
      ],
      "metadata": {
        "id": "t6k1_oA-Qz-B"
      },
      "execution_count": 13,
      "outputs": []
    },
    {
      "cell_type": "code",
      "source": [
        "import pandas as pd\n",
        "\n",
        "def compare_data(chunks):\n",
        "    # Parse chunks for structured data\n",
        "    data = []\n",
        "    for chunk in chunks:\n",
        "        # Assume data parsing logic here\n",
        "        data.append(parse_data(chunk))\n",
        "    df = pd.DataFrame(data)\n",
        "    return df"
      ],
      "metadata": {
        "id": "XbFRb_iSQ2qg"
      },
      "execution_count": 14,
      "outputs": []
    },
    {
      "cell_type": "code",
      "source": [
        "!pip install openai"
      ],
      "metadata": {
        "colab": {
          "base_uri": "https://localhost:8080/"
        },
        "id": "eIBZ2fneQ4_y",
        "outputId": "bdd0ed46-50cb-41f5-f118-4135f14e9232"
      },
      "execution_count": 15,
      "outputs": [
        {
          "output_type": "stream",
          "name": "stdout",
          "text": [
            "Requirement already satisfied: openai in /usr/local/lib/python3.10/dist-packages (1.57.4)\n",
            "Requirement already satisfied: anyio<5,>=3.5.0 in /usr/local/lib/python3.10/dist-packages (from openai) (3.7.1)\n",
            "Requirement already satisfied: distro<2,>=1.7.0 in /usr/local/lib/python3.10/dist-packages (from openai) (1.9.0)\n",
            "Requirement already satisfied: httpx<1,>=0.23.0 in /usr/local/lib/python3.10/dist-packages (from openai) (0.28.1)\n",
            "Requirement already satisfied: jiter<1,>=0.4.0 in /usr/local/lib/python3.10/dist-packages (from openai) (0.8.2)\n",
            "Requirement already satisfied: pydantic<3,>=1.9.0 in /usr/local/lib/python3.10/dist-packages (from openai) (2.10.3)\n",
            "Requirement already satisfied: sniffio in /usr/local/lib/python3.10/dist-packages (from openai) (1.3.1)\n",
            "Requirement already satisfied: tqdm>4 in /usr/local/lib/python3.10/dist-packages (from openai) (4.67.1)\n",
            "Requirement already satisfied: typing-extensions<5,>=4.11 in /usr/local/lib/python3.10/dist-packages (from openai) (4.12.2)\n",
            "Requirement already satisfied: idna>=2.8 in /usr/local/lib/python3.10/dist-packages (from anyio<5,>=3.5.0->openai) (3.10)\n",
            "Requirement already satisfied: exceptiongroup in /usr/local/lib/python3.10/dist-packages (from anyio<5,>=3.5.0->openai) (1.2.2)\n",
            "Requirement already satisfied: certifi in /usr/local/lib/python3.10/dist-packages (from httpx<1,>=0.23.0->openai) (2024.12.14)\n",
            "Requirement already satisfied: httpcore==1.* in /usr/local/lib/python3.10/dist-packages (from httpx<1,>=0.23.0->openai) (1.0.7)\n",
            "Requirement already satisfied: h11<0.15,>=0.13 in /usr/local/lib/python3.10/dist-packages (from httpcore==1.*->httpx<1,>=0.23.0->openai) (0.14.0)\n",
            "Requirement already satisfied: annotated-types>=0.6.0 in /usr/local/lib/python3.10/dist-packages (from pydantic<3,>=1.9.0->openai) (0.7.0)\n",
            "Requirement already satisfied: pydantic-core==2.27.1 in /usr/local/lib/python3.10/dist-packages (from pydantic<3,>=1.9.0->openai) (2.27.1)\n"
          ]
        }
      ]
    },
    {
      "cell_type": "code",
      "source": [
        "!pip install --upgrade typing_extensions"
      ],
      "metadata": {
        "colab": {
          "base_uri": "https://localhost:8080/"
        },
        "id": "tfr10DTKQ8-C",
        "outputId": "31f366ce-837e-4d90-d8bc-ed71fd162306"
      },
      "execution_count": 16,
      "outputs": [
        {
          "output_type": "stream",
          "name": "stdout",
          "text": [
            "Requirement already satisfied: typing_extensions in /usr/local/lib/python3.10/dist-packages (4.12.2)\n"
          ]
        }
      ]
    },
    {
      "cell_type": "code",
      "source": [
        "!pip install --upgrade typing_extensions"
      ],
      "metadata": {
        "colab": {
          "base_uri": "https://localhost:8080/"
        },
        "id": "kgnXwD3ERCmq",
        "outputId": "58f035e3-34ed-4a62-c665-8bc941fec477"
      },
      "execution_count": 17,
      "outputs": [
        {
          "output_type": "stream",
          "name": "stdout",
          "text": [
            "Requirement already satisfied: typing_extensions in /usr/local/lib/python3.10/dist-packages (4.12.2)\n"
          ]
        }
      ]
    },
    {
      "cell_type": "code",
      "source": [
        "!pip uninstall typing_extensions -y\n",
        "!pip install typing_extensions"
      ],
      "metadata": {
        "colab": {
          "base_uri": "https://localhost:8080/"
        },
        "id": "OfTynQB0RFCg",
        "outputId": "bc630b8e-3e7c-4337-9d53-84ed598db348"
      },
      "execution_count": 18,
      "outputs": [
        {
          "output_type": "stream",
          "name": "stdout",
          "text": [
            "Found existing installation: typing_extensions 4.12.2\n",
            "Uninstalling typing_extensions-4.12.2:\n",
            "  Successfully uninstalled typing_extensions-4.12.2\n",
            "Collecting typing_extensions\n",
            "  Using cached typing_extensions-4.12.2-py3-none-any.whl.metadata (3.0 kB)\n",
            "Using cached typing_extensions-4.12.2-py3-none-any.whl (37 kB)\n",
            "Installing collected packages: typing_extensions\n",
            "Successfully installed typing_extensions-4.12.2\n"
          ]
        }
      ]
    },
    {
      "cell_type": "code",
      "source": [
        "import importlib.metadata\n",
        "print(importlib.metadata.version('typing_extensions'))"
      ],
      "metadata": {
        "colab": {
          "base_uri": "https://localhost:8080/"
        },
        "id": "mIco1BDXRH-Y",
        "outputId": "e0b2fcdf-a809-4a86-ee87-36fd278fd56d"
      },
      "execution_count": 19,
      "outputs": [
        {
          "output_type": "stream",
          "name": "stdout",
          "text": [
            "4.12.2\n"
          ]
        }
      ]
    },
    {
      "cell_type": "code",
      "source": [
        "import subprocess\n",
        "subprocess.run([\"pip\", \"show\", \"typing_extensions\"])"
      ],
      "metadata": {
        "colab": {
          "base_uri": "https://localhost:8080/"
        },
        "id": "CTKLjXu0RKTD",
        "outputId": "29b26e91-0afc-4570-cbe2-d5189547a50d"
      },
      "execution_count": 20,
      "outputs": [
        {
          "output_type": "execute_result",
          "data": {
            "text/plain": [
              "CompletedProcess(args=['pip', 'show', 'typing_extensions'], returncode=0)"
            ]
          },
          "metadata": {},
          "execution_count": 20
        }
      ]
    },
    {
      "cell_type": "code",
      "source": [
        "!echo %CONDA_DEFAULT_ENV%"
      ],
      "metadata": {
        "colab": {
          "base_uri": "https://localhost:8080/"
        },
        "id": "dssig6x4RN0k",
        "outputId": "977a35c7-613b-4f81-ee81-ec5ddd096988"
      },
      "execution_count": 21,
      "outputs": [
        {
          "output_type": "stream",
          "name": "stdout",
          "text": [
            "%CONDA_DEFAULT_ENV%\n"
          ]
        }
      ]
    },
    {
      "cell_type": "code",
      "source": [
        "pip install typing-extensions openai huggingface-hub"
      ],
      "metadata": {
        "colab": {
          "base_uri": "https://localhost:8080/"
        },
        "id": "BMNo8he2RTSV",
        "outputId": "f9c78fa4-fde0-499c-ab6f-5360265e0c6c"
      },
      "execution_count": 22,
      "outputs": [
        {
          "output_type": "stream",
          "name": "stdout",
          "text": [
            "Requirement already satisfied: typing-extensions in /usr/local/lib/python3.10/dist-packages (4.12.2)\n",
            "Requirement already satisfied: openai in /usr/local/lib/python3.10/dist-packages (1.57.4)\n",
            "Requirement already satisfied: huggingface-hub in /usr/local/lib/python3.10/dist-packages (0.27.0)\n",
            "Requirement already satisfied: anyio<5,>=3.5.0 in /usr/local/lib/python3.10/dist-packages (from openai) (3.7.1)\n",
            "Requirement already satisfied: distro<2,>=1.7.0 in /usr/local/lib/python3.10/dist-packages (from openai) (1.9.0)\n",
            "Requirement already satisfied: httpx<1,>=0.23.0 in /usr/local/lib/python3.10/dist-packages (from openai) (0.28.1)\n",
            "Requirement already satisfied: jiter<1,>=0.4.0 in /usr/local/lib/python3.10/dist-packages (from openai) (0.8.2)\n",
            "Requirement already satisfied: pydantic<3,>=1.9.0 in /usr/local/lib/python3.10/dist-packages (from openai) (2.10.3)\n",
            "Requirement already satisfied: sniffio in /usr/local/lib/python3.10/dist-packages (from openai) (1.3.1)\n",
            "Requirement already satisfied: tqdm>4 in /usr/local/lib/python3.10/dist-packages (from openai) (4.67.1)\n",
            "Requirement already satisfied: filelock in /usr/local/lib/python3.10/dist-packages (from huggingface-hub) (3.16.1)\n",
            "Requirement already satisfied: fsspec>=2023.5.0 in /usr/local/lib/python3.10/dist-packages (from huggingface-hub) (2024.10.0)\n",
            "Requirement already satisfied: packaging>=20.9 in /usr/local/lib/python3.10/dist-packages (from huggingface-hub) (24.2)\n",
            "Requirement already satisfied: pyyaml>=5.1 in /usr/local/lib/python3.10/dist-packages (from huggingface-hub) (6.0.2)\n",
            "Requirement already satisfied: requests in /usr/local/lib/python3.10/dist-packages (from huggingface-hub) (2.32.3)\n",
            "Requirement already satisfied: idna>=2.8 in /usr/local/lib/python3.10/dist-packages (from anyio<5,>=3.5.0->openai) (3.10)\n",
            "Requirement already satisfied: exceptiongroup in /usr/local/lib/python3.10/dist-packages (from anyio<5,>=3.5.0->openai) (1.2.2)\n",
            "Requirement already satisfied: certifi in /usr/local/lib/python3.10/dist-packages (from httpx<1,>=0.23.0->openai) (2024.12.14)\n",
            "Requirement already satisfied: httpcore==1.* in /usr/local/lib/python3.10/dist-packages (from httpx<1,>=0.23.0->openai) (1.0.7)\n",
            "Requirement already satisfied: h11<0.15,>=0.13 in /usr/local/lib/python3.10/dist-packages (from httpcore==1.*->httpx<1,>=0.23.0->openai) (0.14.0)\n",
            "Requirement already satisfied: annotated-types>=0.6.0 in /usr/local/lib/python3.10/dist-packages (from pydantic<3,>=1.9.0->openai) (0.7.0)\n",
            "Requirement already satisfied: pydantic-core==2.27.1 in /usr/local/lib/python3.10/dist-packages (from pydantic<3,>=1.9.0->openai) (2.27.1)\n",
            "Requirement already satisfied: charset-normalizer<4,>=2 in /usr/local/lib/python3.10/dist-packages (from requests->huggingface-hub) (3.4.0)\n",
            "Requirement already satisfied: urllib3<3,>=1.21.1 in /usr/local/lib/python3.10/dist-packages (from requests->huggingface-hub) (2.2.3)\n"
          ]
        }
      ]
    },
    {
      "cell_type": "code",
      "source": [
        "pip install --upgrade typing-extensions"
      ],
      "metadata": {
        "colab": {
          "base_uri": "https://localhost:8080/"
        },
        "id": "RoMXNaU1RVg5",
        "outputId": "657dff0c-0f53-4a74-f460-39fab92627ef"
      },
      "execution_count": 23,
      "outputs": [
        {
          "output_type": "stream",
          "name": "stdout",
          "text": [
            "Requirement already satisfied: typing-extensions in /usr/local/lib/python3.10/dist-packages (4.12.2)\n"
          ]
        }
      ]
    },
    {
      "cell_type": "code",
      "source": [
        "from openai import ChatCompletion\n",
        "\n",
        "def generate_response(prompt, retrieved_chunks):\n",
        "    context = \"\\n\".join(retrieved_chunks)\n",
        "    full_prompt = f\"{context}\\n\\nQuestion: {prompt}\\nAnswer:\"\n",
        "    response = ChatCompletion.create(model=\"gpt-4\", prompt=full_prompt)\n",
        "    return response.choices[0].text"
      ],
      "metadata": {
        "id": "NqzW5GrwRYU-"
      },
      "execution_count": 24,
      "outputs": []
    },
    {
      "cell_type": "code",
      "source": [
        "pip install camelot-py[cv]"
      ],
      "metadata": {
        "colab": {
          "base_uri": "https://localhost:8080/"
        },
        "id": "ph9lNC5eRapD",
        "outputId": "5bb11382-3acb-4814-f8e3-3c612bf1b876"
      },
      "execution_count": 25,
      "outputs": [
        {
          "output_type": "stream",
          "name": "stdout",
          "text": [
            "Requirement already satisfied: camelot-py[cv] in /usr/local/lib/python3.10/dist-packages (0.9.0)\n",
            "Requirement already satisfied: chardet>=3.0.4 in /usr/local/lib/python3.10/dist-packages (from camelot-py[cv]) (5.2.0)\n",
            "Requirement already satisfied: click>=6.7 in /usr/local/lib/python3.10/dist-packages (from camelot-py[cv]) (8.1.7)\n",
            "Requirement already satisfied: numpy>=1.13.3 in /usr/local/lib/python3.10/dist-packages (from camelot-py[cv]) (1.26.4)\n",
            "Requirement already satisfied: openpyxl>=2.5.8 in /usr/local/lib/python3.10/dist-packages (from camelot-py[cv]) (3.1.5)\n",
            "Requirement already satisfied: pandas>=0.23.4 in /usr/local/lib/python3.10/dist-packages (from camelot-py[cv]) (2.2.2)\n",
            "Requirement already satisfied: pdfminer.six>=20200726 in /usr/local/lib/python3.10/dist-packages (from camelot-py[cv]) (20231228)\n",
            "Requirement already satisfied: PyPDF2>=1.26.0 in /usr/local/lib/python3.10/dist-packages (from camelot-py[cv]) (1.26.0)\n",
            "Requirement already satisfied: opencv-python>=3.4.2.17 in /usr/local/lib/python3.10/dist-packages (from camelot-py[cv]) (4.10.0.84)\n",
            "Requirement already satisfied: et-xmlfile in /usr/local/lib/python3.10/dist-packages (from openpyxl>=2.5.8->camelot-py[cv]) (2.0.0)\n",
            "Requirement already satisfied: python-dateutil>=2.8.2 in /usr/local/lib/python3.10/dist-packages (from pandas>=0.23.4->camelot-py[cv]) (2.8.2)\n",
            "Requirement already satisfied: pytz>=2020.1 in /usr/local/lib/python3.10/dist-packages (from pandas>=0.23.4->camelot-py[cv]) (2024.2)\n",
            "Requirement already satisfied: tzdata>=2022.7 in /usr/local/lib/python3.10/dist-packages (from pandas>=0.23.4->camelot-py[cv]) (2024.2)\n",
            "Requirement already satisfied: charset-normalizer>=2.0.0 in /usr/local/lib/python3.10/dist-packages (from pdfminer.six>=20200726->camelot-py[cv]) (3.4.0)\n",
            "Requirement already satisfied: cryptography>=36.0.0 in /usr/local/lib/python3.10/dist-packages (from pdfminer.six>=20200726->camelot-py[cv]) (43.0.3)\n",
            "Requirement already satisfied: cffi>=1.12 in /usr/local/lib/python3.10/dist-packages (from cryptography>=36.0.0->pdfminer.six>=20200726->camelot-py[cv]) (1.17.1)\n",
            "Requirement already satisfied: six>=1.5 in /usr/local/lib/python3.10/dist-packages (from python-dateutil>=2.8.2->pandas>=0.23.4->camelot-py[cv]) (1.17.0)\n",
            "Requirement already satisfied: pycparser in /usr/local/lib/python3.10/dist-packages (from cffi>=1.12->cryptography>=36.0.0->pdfminer.six>=20200726->camelot-py[cv]) (2.22)\n"
          ]
        }
      ]
    },
    {
      "cell_type": "code",
      "source": [
        "from PyPDF2 import PdfReader\n",
        "\n",
        "# Open the PDF file\n",
        "reader = PdfReader('Sithafal_Task1.pdf')\n",
        "\n",
        "# Access a specific page\n",
        "page = reader.pages[5]  # Page number starts from 0, so 5 is the 6th page\n",
        "\n",
        "# Extract text from the page\n",
        "text = page.extract_text()\n",
        "\n",
        "# Print the extracted text\n",
        "print(text)"
      ],
      "metadata": {
        "colab": {
          "base_uri": "https://localhost:8080/",
          "height": 383
        },
        "id": "2AxjC9zBRdyh",
        "outputId": "f4f578df-9e1b-4ccb-f255-d5dc5dd41098"
      },
      "execution_count": 26,
      "outputs": [
        {
          "output_type": "error",
          "ename": "ImportError",
          "evalue": "cannot import name 'PdfReader' from 'PyPDF2' (/usr/local/lib/python3.10/dist-packages/PyPDF2/__init__.py)",
          "traceback": [
            "\u001b[0;31m---------------------------------------------------------------------------\u001b[0m",
            "\u001b[0;31mImportError\u001b[0m                               Traceback (most recent call last)",
            "\u001b[0;32m<ipython-input-26-6662cb66e4e8>\u001b[0m in \u001b[0;36m<cell line: 1>\u001b[0;34m()\u001b[0m\n\u001b[0;32m----> 1\u001b[0;31m \u001b[0;32mfrom\u001b[0m \u001b[0mPyPDF2\u001b[0m \u001b[0;32mimport\u001b[0m \u001b[0mPdfReader\u001b[0m\u001b[0;34m\u001b[0m\u001b[0;34m\u001b[0m\u001b[0m\n\u001b[0m\u001b[1;32m      2\u001b[0m \u001b[0;34m\u001b[0m\u001b[0m\n\u001b[1;32m      3\u001b[0m \u001b[0;31m# Open the PDF file\u001b[0m\u001b[0;34m\u001b[0m\u001b[0;34m\u001b[0m\u001b[0m\n\u001b[1;32m      4\u001b[0m \u001b[0mreader\u001b[0m \u001b[0;34m=\u001b[0m \u001b[0mPdfReader\u001b[0m\u001b[0;34m(\u001b[0m\u001b[0;34m'Sithafal_Task1.pdf'\u001b[0m\u001b[0;34m)\u001b[0m\u001b[0;34m\u001b[0m\u001b[0;34m\u001b[0m\u001b[0m\n\u001b[1;32m      5\u001b[0m \u001b[0;34m\u001b[0m\u001b[0m\n",
            "\u001b[0;31mImportError\u001b[0m: cannot import name 'PdfReader' from 'PyPDF2' (/usr/local/lib/python3.10/dist-packages/PyPDF2/__init__.py)",
            "",
            "\u001b[0;31m---------------------------------------------------------------------------\u001b[0;32m\nNOTE: If your import is failing due to a missing package, you can\nmanually install dependencies using either !pip or !apt.\n\nTo view examples of installing some common dependencies, click the\n\"Open Examples\" button below.\n\u001b[0;31m---------------------------------------------------------------------------\u001b[0m\n"
          ],
          "errorDetails": {
            "actions": [
              {
                "action": "open_url",
                "actionText": "Open Examples",
                "url": "/notebooks/snippets/importing_libraries.ipynb"
              }
            ]
          }
        }
      ]
    },
    {
      "cell_type": "code",
      "source": [
        "pip install pdfplumber"
      ],
      "metadata": {
        "id": "1QW4HRK1Ridp"
      },
      "execution_count": null,
      "outputs": []
    },
    {
      "cell_type": "code",
      "source": [
        "from PyPDF2 import PdfReader\n",
        "\n",
        "\n",
        "def extract_text_from_page(pdf_path, page_num):\n",
        "    # Open the PDF file\n",
        "    with open(pdf_path, 'rb') as file:\n",
        "\n",
        "        reader = PdfReader(file)\n",
        "\n",
        "        page = reader.pages[page_num - 1]\n",
        "        text = page.extract_text()\n",
        "    return text\n",
        "\n",
        "\n",
        "pdf_path = 'Sithafal_Task1.pdf'\n",
        "page_num = 2\n",
        "text = extract_text_from_page(pdf_path, page_num)\n",
        "print(text)"
      ],
      "metadata": {
        "id": "4t6raV4mXSEr"
      },
      "execution_count": null,
      "outputs": []
    },
    {
      "cell_type": "code",
      "source": [
        "import re\n",
        "from PyPDF2 import PdfReader\n",
        "\n",
        "# Function to extract text from a specific page using PdfReader\n",
        "def extract_text_from_page(pdf_path, page_num):\n",
        "    with open(pdf_path, 'rb') as file:\n",
        "        reader = PdfReader(file)  # Using PdfReader from PyPDF2\n",
        "        page = reader.pages[page_num - 1]\n",
        "        text = page.extract_text()\n",
        "    return text\n",
        "\n",
        "\n",
        "def get_unemployment_info(degree_type, pdf_path):\n",
        "\n",
        "    text = extract_text_from_page(pdf_path, 2)\n",
        "\n",
        "\n",
        "    pattern = rf\"(\\b{degree_type}\\b.*?unemployment[\\w\\s]*)\"\n",
        "    match = re.search(pattern, text, re.DOTALL | re.IGNORECASE)\n",
        "\n",
        "    if match:\n",
        "        return match.group(0)\n",
        "    else:\n",
        "        return \"No unemployment data found for this degree type.\"\n",
        "pdf_path = 'Sithafal_Task1.pdf'\n",
        "degree_type = 'Engineering'\n",
        "unemployment_info = get_unemployment_info(degree_type, pdf_path)\n",
        "print(f\"Unemployment Information for {degree_type}:\")\n",
        "print(unemployment_info)"
      ],
      "metadata": {
        "id": "hoOmKKWLXbqL"
      },
      "execution_count": null,
      "outputs": []
    },
    {
      "cell_type": "code",
      "source": [
        "pip install camelot-py[cv]"
      ],
      "metadata": {
        "id": "jasstCbJX6pq"
      },
      "execution_count": null,
      "outputs": []
    },
    {
      "cell_type": "code",
      "source": [
        "!pip install PyPDF2==3.0.0\n",
        "!pip install camelot-py[cv]  # For Camelot\n",
        "!pip install pdfplumber  # If you want to use pdfplumber"
      ],
      "metadata": {
        "id": "J1aQx3zvX_8c"
      },
      "execution_count": null,
      "outputs": []
    },
    {
      "cell_type": "code",
      "source": [
        "pip install PyPDF2==1.26.0"
      ],
      "metadata": {
        "id": "6TxbbH67YEe5"
      },
      "execution_count": null,
      "outputs": []
    },
    {
      "cell_type": "code",
      "source": [
        "pip install pdfplumber"
      ],
      "metadata": {
        "id": "4RE0JcfZYL4h"
      },
      "execution_count": null,
      "outputs": []
    },
    {
      "cell_type": "code",
      "source": [
        "import pdfplumber\n",
        "\n",
        "def extract_unemployment_info(pdf_path, page_num, degree_type):\n",
        "    with pdfplumber.open(pdf_path) as pdf:\n",
        "        # Get the specific page from the PDF\n",
        "        page = pdf.pages[page_num - 1]  # Page numbers start from 0\n",
        "        # Extract text from the page\n",
        "        text = page.extract_text()\n",
        "\n",
        "        # Search for the degree type in the text and extract the relevant unemployment information\n",
        "        # Assuming the degree types are listed as \"Bachelor's\", \"Master's\", \"PhD\", etc.\n",
        "\n",
        "        degree_type = degree_type.lower()  # Make the input degree type case-insensitive\n",
        "\n",
        "        # Look for the degree-related data in the text\n",
        "        # This is a simple search method, you may need to refine it based on your PDF's structure\n",
        "        lines = text.split('\\n')\n",
        "        for line in lines:\n",
        "            if degree_type in line.lower():  # Case-insensitive match\n",
        "                # Extract the line containing the unemployment info related to the degree\n",
        "                print(f\"Found data for {degree_type.capitalize()} degree:\")\n",
        "                print(line)\n",
        "                return line\n",
        "\n",
        "        return f\"No unemployment data found for {degree_type.capitalize()} degree.\"\n",
        "\n",
        "# Example usage\n",
        "pdf_path = 'Sithafal_Task1.pdf'\n",
        "page_num = 2\n",
        "degree_type = \"bachelor's\"\n",
        "\n",
        "unemployment_info = extract_unemployment_info(pdf_path, page_num, degree_type)\n",
        "\n",
        "# Print the unemployment information found\n",
        "print(unemployment_info)"
      ],
      "metadata": {
        "id": "4F8_XQXVYZd3"
      },
      "execution_count": null,
      "outputs": []
    },
    {
      "cell_type": "code",
      "source": [
        "import pdfplumber\n",
        "\n",
        "def extract_unemployment_info(pdf_path, page_num, degree_type):\n",
        "    with pdfplumber.open(pdf_path) as pdf:\n",
        "        # Get the specific page from the PDF\n",
        "        page = pdf.pages[page_num - 1]  # Page numbers start from 0\n",
        "        # Extract text from the page\n",
        "        text = page.extract_text()\n",
        "\n",
        "        # Search for the degree type in the text and extract the relevant unemployment information\n",
        "        # Assuming the degree types are listed as \"Bachelor's\", \"Master's\", \"PhD\", etc.\n",
        "\n",
        "        degree_type = degree_type.lower()  # Make the input degree type case-insensitive\n",
        "\n",
        "        # Look for the degree-related data in the text\n",
        "        # This is a simple search method, you may need to refine it based on your PDF's structure\n",
        "        lines = text.split('\\n')\n",
        "        for line in lines:\n",
        "            if degree_type in line.lower():  # Case-insensitive match\n",
        "                # Extract the line containing the unemployment info related to the degree\n",
        "                print(f\"Found data for {degree_type.capitalize()} degree:\")\n",
        "                print(line)\n",
        "                return line\n",
        "\n",
        "        return f\"No unemployment data found for {degree_type.capitalize()} degree.\"\n",
        "\n",
        "# Example usage\n",
        "pdf_path = 'Sithafal_Task1.pdf'\n",
        "page_num = 2\n",
        "degree_type = 'Doctral'\n",
        "\n",
        "unemployment_info = extract_unemployment_info(pdf_path, page_num, degree_type)\n",
        "\n",
        "# Print the unemployment information found\n",
        "print(unemployment_info)\n"
      ],
      "metadata": {
        "id": "VDGoT6S2Yffe"
      },
      "execution_count": null,
      "outputs": []
    },
    {
      "cell_type": "code",
      "source": [
        "import pdfplumber\n",
        "\n",
        "def extract_table_from_pdf(pdf_path, page_num):\n",
        "    with pdfplumber.open(pdf_path) as pdf:\n",
        "        # Get the page from the PDF\n",
        "        page = pdf.pages[page_num - 1]  # Page numbers start from 0\n",
        "        # Extract tables from the page\n",
        "        tables = page.extract_tables()\n",
        "        if tables:\n",
        "            return tables[0]  # Return the first table\n",
        "        else:\n",
        "            return None  # No table found\n",
        "\n",
        "# Example usage\n",
        "pdf_path = 'Sithafal_Task1.pdf'\n",
        "page_num = 6\n",
        "table_data = extract_table_from_pdf(pdf_path, page_num)\n",
        "\n",
        "# Print the table if found\n",
        "if table_data:\n",
        "    print(f\"Extracted Table from Page {page_num}:\")\n",
        "    for row in table_data:\n",
        "        print(row)\n",
        "else:\n",
        "    print(f\"No table found on Page {page_num}.\")"
      ],
      "metadata": {
        "id": "DjQRPZKlYlPD"
      },
      "execution_count": null,
      "outputs": []
    },
    {
      "cell_type": "code",
      "source": [
        "import pdfplumber\n",
        "import pandas as pd\n",
        "\n",
        "def extract_table_from_pdf(pdf_path, page_num):\n",
        "    with pdfplumber.open(pdf_path) as pdf:\n",
        "        # Get the page from the PDF\n",
        "        page = pdf.pages[page_num - 1]  # Page numbers start from 0\n",
        "        # Extract tables from the page\n",
        "        tables = page.extract_tables()\n",
        "        if tables:\n",
        "            return tables[0]  # Return the first table\n",
        "        else:\n",
        "            return None  # No table found\n",
        "\n",
        "# Example usage\n",
        "pdf_path = 'Sithafal_Task1.pdf'\n",
        "page_num = 6\n",
        "table_data = extract_table_from_pdf(pdf_path, page_num)\n",
        "\n",
        "# Print the table in a readable format using Pandas\n",
        "if table_data:\n",
        "    # Convert the extracted table into a Pandas DataFrame for better display\n",
        "    df = pd.DataFrame(table_data[1:], columns=table_data[0])  # Use the first row as columns\n",
        "    print(f\"Extracted Table from Page {page_num}:\")\n",
        "    print(df)\n",
        "else:\n",
        "    print(f\"No table found on Page {page_num}.\")"
      ],
      "metadata": {
        "id": "FqswAbdjYpwc"
      },
      "execution_count": null,
      "outputs": []
    },
    {
      "cell_type": "code",
      "source": [],
      "metadata": {
        "id": "jnSIlpmfYucv"
      },
      "execution_count": null,
      "outputs": []
    }
  ]
}